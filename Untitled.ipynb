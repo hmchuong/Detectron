{
 "cells": [
  {
   "cell_type": "code",
   "execution_count": 1,
   "metadata": {},
   "outputs": [],
   "source": [
    "import numpy as np"
   ]
  },
  {
   "cell_type": "code",
   "execution_count": 2,
   "metadata": {},
   "outputs": [],
   "source": [
    "a = np.array([[0,1,1], [1,2,1],[0,1,2]])"
   ]
  },
  {
   "cell_type": "code",
   "execution_count": 3,
   "metadata": {},
   "outputs": [
    {
     "data": {
      "text/plain": [
       "array([0, 1, 2])"
      ]
     },
     "execution_count": 3,
     "metadata": {},
     "output_type": "execute_result"
    }
   ],
   "source": [
    "np.unique(a)"
   ]
  },
  {
   "cell_type": "code",
   "execution_count": 5,
   "metadata": {},
   "outputs": [],
   "source": [
    "from dataset import COCOStuffDataset"
   ]
  },
  {
   "cell_type": "code",
   "execution_count": 6,
   "metadata": {},
   "outputs": [],
   "source": [
    "dataset = COCOStuffDataset(\"cocostuff/images\", \"cocostuff/annotations\")"
   ]
  },
  {
   "cell_type": "code",
   "execution_count": 7,
   "metadata": {},
   "outputs": [],
   "source": [
    "for image, label in dataset:\n",
    "    img = image\n",
    "    labl = label\n",
    "    break"
   ]
  },
  {
   "cell_type": "code",
   "execution_count": 11,
   "metadata": {},
   "outputs": [
    {
     "data": {
      "text/plain": [
       "{'boxes': tensor([[113., 250., 226., 408.],\n",
       "         [  0., 299.,  34., 407.],\n",
       "         [259., 195., 614., 413.],\n",
       "         [  0., 251., 153., 418.],\n",
       "         [105., 290., 609., 418.],\n",
       "         [  0., 350.,  73., 418.],\n",
       "         [ 49., 396., 123., 418.],\n",
       "         [266.,   0., 393., 246.],\n",
       "         [273., 223., 356., 265.],\n",
       "         [271., 266., 272., 266.],\n",
       "         [  0., 287.,  68., 321.],\n",
       "         [ 32., 334.,  37., 350.],\n",
       "         [ 90.,   0., 155., 267.],\n",
       "         [208.,   0., 276., 317.],\n",
       "         [381.,   0., 631., 238.],\n",
       "         [615., 214., 615., 214.],\n",
       "         [159., 254., 166., 255.],\n",
       "         [155., 256., 156., 256.],\n",
       "         [ 32., 303.,  72., 362.],\n",
       "         [119., 324., 142., 343.],\n",
       "         [607.,   0., 639., 418.],\n",
       "         [133.,   0., 262., 258.],\n",
       "         [  0.,   0., 113., 266.]]),\n",
       " 'labels': tensor([ 61,  61,  64,  66, 100, 100, 100, 111, 113, 113, 131, 131, 171, 171,\n",
       "         171, 171, 171, 171, 171, 171, 172, 174, 179]),\n",
       " 'masks': tensor([[[0, 0, 0,  ..., 0, 0, 0],\n",
       "          [0, 0, 0,  ..., 0, 0, 0],\n",
       "          [0, 0, 0,  ..., 0, 0, 0],\n",
       "          ...,\n",
       "          [0, 0, 0,  ..., 0, 0, 0],\n",
       "          [0, 0, 0,  ..., 0, 0, 0],\n",
       "          [0, 0, 0,  ..., 0, 0, 0]],\n",
       " \n",
       "         [[0, 0, 0,  ..., 0, 0, 0],\n",
       "          [0, 0, 0,  ..., 0, 0, 0],\n",
       "          [0, 0, 0,  ..., 0, 0, 0],\n",
       "          ...,\n",
       "          [0, 0, 0,  ..., 0, 0, 0],\n",
       "          [0, 0, 0,  ..., 0, 0, 0],\n",
       "          [0, 0, 0,  ..., 0, 0, 0]],\n",
       " \n",
       "         [[0, 0, 0,  ..., 0, 0, 0],\n",
       "          [0, 0, 0,  ..., 0, 0, 0],\n",
       "          [0, 0, 0,  ..., 0, 0, 0],\n",
       "          ...,\n",
       "          [0, 0, 0,  ..., 0, 0, 0],\n",
       "          [0, 0, 0,  ..., 0, 0, 0],\n",
       "          [0, 0, 0,  ..., 0, 0, 0]],\n",
       " \n",
       "         ...,\n",
       " \n",
       "         [[0, 0, 0,  ..., 1, 1, 1],\n",
       "          [0, 0, 0,  ..., 1, 1, 1],\n",
       "          [0, 0, 0,  ..., 1, 1, 1],\n",
       "          ...,\n",
       "          [0, 0, 0,  ..., 1, 1, 1],\n",
       "          [0, 0, 0,  ..., 1, 1, 1],\n",
       "          [0, 0, 0,  ..., 1, 1, 1]],\n",
       " \n",
       "         [[0, 0, 0,  ..., 0, 0, 0],\n",
       "          [0, 0, 0,  ..., 0, 0, 0],\n",
       "          [0, 0, 0,  ..., 0, 0, 0],\n",
       "          ...,\n",
       "          [0, 0, 0,  ..., 0, 0, 0],\n",
       "          [0, 0, 0,  ..., 0, 0, 0],\n",
       "          [0, 0, 0,  ..., 0, 0, 0]],\n",
       " \n",
       "         [[1, 1, 1,  ..., 0, 0, 0],\n",
       "          [1, 1, 1,  ..., 0, 0, 0],\n",
       "          [1, 1, 1,  ..., 0, 0, 0],\n",
       "          ...,\n",
       "          [0, 0, 0,  ..., 0, 0, 0],\n",
       "          [0, 0, 0,  ..., 0, 0, 0],\n",
       "          [0, 0, 0,  ..., 0, 0, 0]]], dtype=torch.uint8),\n",
       " 'image_id': tensor([0]),\n",
       " 'area': tensor([1.7854e+04, 3.6720e+03, 7.7390e+04, 2.5551e+04, 6.4512e+04, 4.9640e+03,\n",
       "         1.6280e+03, 3.1242e+04, 3.4860e+03, 0.0000e+00, 2.3120e+03, 8.0000e+01,\n",
       "         1.7355e+04, 2.1556e+04, 5.9500e+04, 0.0000e+00, 7.0000e+00, 0.0000e+00,\n",
       "         2.3600e+03, 4.3700e+02, 1.3376e+04, 3.3282e+04, 3.0058e+04]),\n",
       " 'iscrowd': tensor([0, 0, 0, 0, 0, 0, 0, 0, 0, 0, 0, 0, 0, 0, 0, 0, 0, 0, 0, 0, 0, 0, 0])}"
      ]
     },
     "execution_count": 11,
     "metadata": {},
     "output_type": "execute_result"
    }
   ],
   "source": [
    "labl"
   ]
  },
  {
   "cell_type": "code",
   "execution_count": null,
   "metadata": {},
   "outputs": [],
   "source": []
  }
 ],
 "metadata": {
  "kernelspec": {
   "display_name": "Python 3",
   "language": "python",
   "name": "python3"
  },
  "language_info": {
   "codemirror_mode": {
    "name": "ipython",
    "version": 3
   },
   "file_extension": ".py",
   "mimetype": "text/x-python",
   "name": "python",
   "nbconvert_exporter": "python",
   "pygments_lexer": "ipython3",
   "version": "3.6.8"
  }
 },
 "nbformat": 4,
 "nbformat_minor": 4
}
