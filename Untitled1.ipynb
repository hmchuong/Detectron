{
 "cells": [
  {
   "cell_type": "code",
   "execution_count": 1,
   "metadata": {},
   "outputs": [],
   "source": [
    "from PIL import Image\n",
    "import os\n",
    "from uuid import uuid4\n",
    "import numpy as np\n",
    "from tqdm import tqdm"
   ]
  },
  {
   "cell_type": "code",
   "execution_count": 2,
   "metadata": {},
   "outputs": [],
   "source": [
    "labels = [subdir for subdir in os.listdir(\"masks\") if not subdir.startswith(\".\")]"
   ]
  },
  {
   "cell_type": "code",
   "execution_count": 3,
   "metadata": {},
   "outputs": [
    {
     "data": {
      "text/plain": [
       "['others', 'scar', 'drusen', 'hemorrhage', 'exudate']"
      ]
     },
     "execution_count": 3,
     "metadata": {},
     "output_type": "execute_result"
    }
   ],
   "source": [
    "labels"
   ]
  },
  {
   "cell_type": "code",
   "execution_count": 4,
   "metadata": {},
   "outputs": [],
   "source": [
    "image_masks = {}\n",
    "for label in labels:\n",
    "    for file in os.listdir(os.path.join(\"masks\", label)):\n",
    "        if file.startswith(\".\"):\n",
    "            continue\n",
    "        image_dict = image_masks.get(file[:-4], {})\n",
    "\n",
    "        image_dict[label] = os.path.join(\"masks\", label, file)\n",
    "        \n",
    "        image_masks[file[:-4]] = image_dict"
   ]
  },
  {
   "cell_type": "code",
   "execution_count": 16,
   "metadata": {},
   "outputs": [],
   "source": [
    "def get_mask(mask_arr):\n",
    "    mask_indices = np.where(mask_arr == 0)\n",
    "    if len(mask_indices[0]) == 0:\n",
    "        return None\n",
    "    max_y, max_x = mask_arr.shape\n",
    "    \n",
    "    new_mask = np.full(mask_arr.shape, 255)\n",
    "    new_x_arr = [mask_indices[1][0]]\n",
    "    new_y_arr = [mask_indices[0][0]]\n",
    "    while len(new_x_arr) > 0:\n",
    "        x, y = new_x_arr[0], new_y_arr[0]\n",
    "        new_x_arr = new_x_arr[1:]\n",
    "        new_y_arr = new_y_arr[1:]\n",
    "        new_mask[y][x] = 0\n",
    "        if x + 1 < max_x and mask_arr[y][x+1] == 0:\n",
    "            new_x_arr.append(x+1)\n",
    "            new_y_arr.append(y)\n",
    "            mask_arr[y][x+1] = 255\n",
    "        if x - 1 >= 0 and mask_arr[y][x-1] == 0:\n",
    "            new_x_arr.append(x-1)\n",
    "            new_y_arr.append(y)\n",
    "            mask_arr[y][x-1] = 255\n",
    "        if x + 1 < max_x and y + 1 < max_y and mask_arr[y+1][x+1] == 0:\n",
    "            new_x_arr.append(x+1)\n",
    "            new_y_arr.append(y+1)\n",
    "            mask_arr[y+1][x+1] = 255\n",
    "        if x - 1 >= 0 and y + 1 < max_y and mask_arr[y+1][x-1] == 0:\n",
    "            new_x_arr.append(x-1)\n",
    "            new_y_arr.append(y+1)\n",
    "            mask_arr[y+1][x-1] = 255\n",
    "        if x + 1 < max_x and y - 1 >= 0 and mask_arr[y-1][x+1] == 0:\n",
    "            new_x_arr.append(x+1)\n",
    "            new_y_arr.append(y-1)\n",
    "            mask_arr[y-1][x+1] = 255\n",
    "        if x - 1 >= 0 and y - 1 >= 0 and mask_arr[y-1][x-1] == 0:\n",
    "            new_x_arr.append(x-1)\n",
    "            new_y_arr.append(y-1)\n",
    "            mask_arr[y-1][x-1] = 255\n",
    "        if y - 1 >= 0 and mask_arr[y-1][x] == 0:\n",
    "            new_x_arr.append(x)\n",
    "            new_y_arr.append(y-1)\n",
    "            mask_arr[y-1][x] = 255\n",
    "        if y + 1 < max_y and mask_arr[y+1][x] == 0:\n",
    "            new_x_arr.append(x)\n",
    "            new_y_arr.append(y+1)\n",
    "            mask_arr[y+1][x] = 255\n",
    "    return new_mask\n",
    "\n",
    "def split_instance_from_mask(image_path, output_folder):\n",
    "    mask = np.array(Image.open(image_path))\n",
    "    new_mask = get_mask(mask)\n",
    "    while new_mask is not None:\n",
    "        Image.fromarray(new_mask.astype(np.uint8)).save(os.path.join(output_folder, \"{}.jpg\".format(uuid4())))\n",
    "        new_mask = get_mask(mask)"
   ]
  },
  {
   "cell_type": "code",
   "execution_count": 17,
   "metadata": {},
   "outputs": [
    {
     "name": "stdout",
     "output_type": "stream",
     "text": [
      "N0042 others\n",
      "N0042 exudate\n",
      "N0043 others\n",
      "A0029 others\n",
      "N0132 others\n",
      "N0130 others\n",
      "N0131 others\n",
      "N0181 others\n",
      "N0208 others\n",
      "N0180 others\n",
      "N0169 others\n",
      "A0073 others\n",
      "N0168 others\n",
      "N0201 others\n",
      "N0200 others\n",
      "N0200 drusen\n",
      "A0080 others\n",
      "N0167 others\n",
      "A0030 others\n",
      "A0013 scar\n",
      "A0002 scar\n",
      "A0002 hemorrhage\n",
      "A0002 exudate\n",
      "A0016 scar\n",
      "A0016 hemorrhage\n",
      "A0071 scar\n",
      "A0071 hemorrhage\n",
      "A0076 scar\n",
      "A0075 scar\n",
      "A0082 scar\n",
      "A0069 scar\n",
      "A0069 drusen\n",
      "A0069 exudate\n"
     ]
    }
   ],
   "source": [
    "import pickle\n",
    "with open(\"images.pkl\", \"rb\") as f:\n",
    "    image_masks = pickle.load(f)\n",
    "\n",
    "image_keys =list(image_masks.keys())[:25]\n",
    "for image in image_keys:\n",
    "    image_folder = os.path.join(\"data\", image, \"images\")\n",
    "    masks_folder = os.path.join(\"data\", image, \"masks\")\n",
    "    !mkdir -p {image_folder}\n",
    "    !cp images/{image+\".jpg\"} {image_folder}\n",
    "    masks = image_masks[image]\n",
    "    for mask in masks:\n",
    "        print(image, mask)\n",
    "        mask_folder = os.path.join(masks_folder, mask)\n",
    "        !mkdir -p {mask_folder}\n",
    "        split_instance_from_mask(str(masks[mask]),str(mask_folder))"
   ]
  },
  {
   "cell_type": "code",
   "execution_count": null,
   "metadata": {},
   "outputs": [],
   "source": []
  }
 ],
 "metadata": {
  "kernelspec": {
   "display_name": "vietai",
   "language": "python",
   "name": "vietai"
  },
  "language_info": {
   "codemirror_mode": {
    "name": "ipython",
    "version": 3
   },
   "file_extension": ".py",
   "mimetype": "text/x-python",
   "name": "python",
   "nbconvert_exporter": "python",
   "pygments_lexer": "ipython3",
   "version": "3.6.2"
  }
 },
 "nbformat": 4,
 "nbformat_minor": 2
}
